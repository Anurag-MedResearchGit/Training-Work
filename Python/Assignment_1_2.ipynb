{
  "nbformat": 4,
  "nbformat_minor": 0,
  "metadata": {
    "colab": {
      "provenance": [],
      "collapsed_sections": [
        "AN0VM9A6XriO"
      ]
    },
    "kernelspec": {
      "name": "python3",
      "display_name": "Python 3"
    },
    "language_info": {
      "name": "python"
    }
  },
  "cells": [
    {
      "cell_type": "markdown",
      "source": [
        "#Task 1 NUMBERS AND VARIABLES"
      ],
      "metadata": {
        "id": "AN0VM9A6XriO"
      }
    },
    {
      "cell_type": "markdown",
      "source": [
        "1. Create three variables in a single line and assign values to them in such a manner that each one of\n",
        "them belongs to a different data type. "
      ],
      "metadata": {
        "id": "3SQV7ckBSpcL"
      }
    },
    {
      "cell_type": "code",
      "source": [
        "a, b, c = 10, 10.01, 'hello'\n",
        "\n",
        "print(a, b,  c)\n",
        "print(type(a))\n",
        "print(type(b))\n",
        "print(type(c))"
      ],
      "metadata": {
        "colab": {
          "base_uri": "https://localhost:8080/"
        },
        "id": "PSmkY-UBSwIe",
        "outputId": "86462be4-951a-459c-f8a7-82323d2abb2f"
      },
      "execution_count": null,
      "outputs": [
        {
          "output_type": "stream",
          "name": "stdout",
          "text": [
            "10 10.01 hello\n",
            "<class 'int'>\n",
            "<class 'float'>\n",
            "<class 'str'>\n"
          ]
        }
      ]
    },
    {
      "cell_type": "markdown",
      "source": [
        "2. Create a variable of type complex and swap it with another variable of type integer."
      ],
      "metadata": {
        "id": "kU2Gkxq2UDBj"
      }
    },
    {
      "cell_type": "code",
      "source": [
        "x = 3+6j\n",
        "y = 4\n",
        "\n",
        "print(\"Before swap: \", x, y)\n",
        "\n",
        "x, y = y, x\n",
        "\n",
        "print(\"After swap: \", x, y)\n"
      ],
      "metadata": {
        "colab": {
          "base_uri": "https://localhost:8080/"
        },
        "id": "vGsaxfXYT6LM",
        "outputId": "058804e2-3a50-404e-e9b9-f4d05945507c"
      },
      "execution_count": null,
      "outputs": [
        {
          "output_type": "stream",
          "name": "stdout",
          "text": [
            "Before swap:  (3+6j) 4\n",
            "After swap:  4 (3+6j)\n"
          ]
        }
      ]
    },
    {
      "cell_type": "markdown",
      "source": [
        "3. Swap two numbers using a third variable and do the same task without using any third variable."
      ],
      "metadata": {
        "id": "u7LejT0jU6ut"
      }
    },
    {
      "cell_type": "code",
      "source": [
        "# Swap two variables using third variable\n",
        "\n",
        "x = 10\n",
        "y = 20\n",
        "\n",
        "# Using third variable z to swap the value\n",
        "\n",
        "print(\"Before Swap: \", x, y)\n",
        "\n",
        "z = x \n",
        "\n",
        "x = y \n",
        "\n",
        "y = z \n",
        "\n",
        "print(\"After Swap: \", x, y)"
      ],
      "metadata": {
        "colab": {
          "base_uri": "https://localhost:8080/"
        },
        "id": "ysuXVPsYUixP",
        "outputId": "ea957bc5-24de-4d81-ed32-cf4804ad1fb6"
      },
      "execution_count": null,
      "outputs": [
        {
          "output_type": "stream",
          "name": "stdout",
          "text": [
            "Before Swap:  10 20\n",
            "After Swap:  20 10\n"
          ]
        }
      ]
    },
    {
      "cell_type": "code",
      "source": [
        "# Swap two variables without using third variable\n",
        "\n",
        "a = 10\n",
        "b = 20\n",
        "\n",
        "print(\"Before swap: \", a, b)\n",
        "a , b = b, a\n",
        "print(\"After swap: \", a, b)"
      ],
      "metadata": {
        "colab": {
          "base_uri": "https://localhost:8080/"
        },
        "id": "0VYpGQFGXShr",
        "outputId": "442eed7e-165b-43ac-ca67-0a1ad1b2a3ee"
      },
      "execution_count": null,
      "outputs": [
        {
          "output_type": "stream",
          "name": "stdout",
          "text": [
            "Before swap:  10 20\n",
            "After swap:  20 10\n"
          ]
        }
      ]
    },
    {
      "cell_type": "markdown",
      "source": [
        "5. Write a program to complete the task given below.\n",
        "\n",
        "Ask users to enter any 2 numbers in between 1-10 , add the two numbers and keep the sum in\n",
        "another variable called z. Add 30 to z and store the output in variable result and print result as the\n",
        "final output."
      ],
      "metadata": {
        "id": "wTl6LORLYS2H"
      }
    },
    {
      "cell_type": "code",
      "source": [
        "input_1 = int(input(\"Enter first number between 1 and 10: \"))\n",
        "\n",
        "input_2 = int(input(\"Enter second number between 1 and 10: \"))\n",
        "\n",
        "z = input_1 + input_2\n",
        "\n",
        "result = z + 30 \n",
        "\n",
        "print(result)"
      ],
      "metadata": {
        "colab": {
          "base_uri": "https://localhost:8080/"
        },
        "id": "z33AmwbFYpxX",
        "outputId": "32fdd67c-8a68-4c85-ff07-ab980ac34e55"
      },
      "execution_count": null,
      "outputs": [
        {
          "output_type": "stream",
          "name": "stdout",
          "text": [
            "Enter first number between 1 and 10: 2\n",
            "Enter second number between 1 and 10: 3\n",
            "35\n"
          ]
        }
      ]
    },
    {
      "cell_type": "markdown",
      "source": [
        "6. Write a program to check the data type of the entered values.\n",
        "HINT: Printed output should say - The data type of the input value is : int/float/string/etc"
      ],
      "metadata": {
        "id": "h3-pjAXFbwNe"
      }
    },
    {
      "cell_type": "code",
      "source": [
        "# check data type of variable final \n",
        "\n",
        "final = 4.5\n",
        "\n",
        "type(final)\n",
        "\n"
      ],
      "metadata": {
        "colab": {
          "base_uri": "https://localhost:8080/"
        },
        "id": "FjZkfrndavJ2",
        "outputId": "5722ccc1-310f-4471-9ca5-928411b7b3db"
      },
      "execution_count": null,
      "outputs": [
        {
          "output_type": "execute_result",
          "data": {
            "text/plain": [
              "float"
            ]
          },
          "metadata": {},
          "execution_count": 41
        }
      ]
    },
    {
      "cell_type": "markdown",
      "source": [
        "7. Create Variables using formats such as Upper CamelCase, Lower CamelCase, SnakeCase and\n",
        "UPPERCASE."
      ],
      "metadata": {
        "id": "hw8_xMkXcGob"
      }
    },
    {
      "cell_type": "code",
      "source": [
        "# Upper CamelCase\n",
        "\n",
        "print(\"Upper CamelCase: \", \"FinalValue\")\n",
        "\n",
        "# Lower CamelCase\n",
        "\n",
        "print(\"Lower CamelCase: \", \"finalValue\")\n",
        "\n",
        "# SnakeCase\n",
        "\n",
        "print(\"Snakcase: \", \"final_value\")\n",
        "\n",
        "# UPPERCASE\n",
        "\n",
        "print(\"UPPERCASE: \", \"FINALVALUE\")\n",
        "\n",
        "\n"
      ],
      "metadata": {
        "colab": {
          "base_uri": "https://localhost:8080/"
        },
        "id": "niPm-qsccs5w",
        "outputId": "8fdb66db-dacc-4384-d66f-61d81ee9647d"
      },
      "execution_count": null,
      "outputs": [
        {
          "output_type": "stream",
          "name": "stdout",
          "text": [
            "Upper CamelCase:  FinalValue\n",
            "Lower CamelCase:  finalValue\n",
            "Snakcase:  final_value\n",
            "UPPERCASE:  FINALVALUE\n"
          ]
        }
      ]
    },
    {
      "cell_type": "markdown",
      "source": [
        "8. If one data type value is assigned to ‘a’ variable and then a different data type value is assigned to ‘a’\n",
        "again. Will it change the value? If Yes then Why?"
      ],
      "metadata": {
        "id": "8DGPJqzbfYPJ"
      }
    },
    {
      "cell_type": "code",
      "source": [
        "\"\"\" Yes, it will change the value, because variables are just only the name given to the memory location, if we assign some\n",
        "value first and then reassign with another value, it will repalce the old value with new value\"\"\"\n",
        "\n",
        "# For example: let first assign the value 10 and then 2.5 to a variable name \"same\"\n",
        "\n",
        "same_variable = 10\n",
        "\n",
        "print(same_variable)\n",
        "\n",
        "same_variable = 20.5\n",
        "\n",
        "print(same_variable)\n"
      ],
      "metadata": {
        "colab": {
          "base_uri": "https://localhost:8080/"
        },
        "id": "UgCYJIbreJRG",
        "outputId": "5e1ce36d-639c-48d3-eac5-1f8b89b21a38"
      },
      "execution_count": null,
      "outputs": [
        {
          "output_type": "stream",
          "name": "stdout",
          "text": [
            "10\n",
            "20.5\n"
          ]
        }
      ]
    },
    {
      "cell_type": "markdown",
      "source": [
        "# Task 2 OPERATORS AND DECISION MAKING STATEMENT"
      ],
      "metadata": {
        "id": "OpLrj6VRicB1"
      }
    },
    {
      "cell_type": "markdown",
      "source": [
        "1. Write a program in Python to perform the following operation:\n",
        "\n",
        "If a number is divisible by 3 it should print “Consultadd” as a string.\n",
        "\n",
        "If a number is divisible by 5 it should print “Python Training” as a string.\n",
        "\n",
        "If a number is divisible by both 3 and 5 it should print “Consultadd - Python Training” as a string.\n"
      ],
      "metadata": {
        "id": "qcK-RjRIjBgA"
      }
    },
    {
      "cell_type": "code",
      "source": [
        "x = int(input(\"Enter a number\"))\n",
        "\n",
        "if (x % 3 == 0 and x % 5 != 0):\n",
        "  print(\"Consultadd\")\n",
        "\n",
        "elif (x % 5 == 0 and x % 3 != 0):\n",
        "  print(\"Python Training\")\n",
        "\n",
        "elif (x % 3 and x % 5)  == 0:\n",
        "  print(\"Consultadd - Python Training\")"
      ],
      "metadata": {
        "id": "cxg4v7Zdhj3p"
      },
      "execution_count": null,
      "outputs": []
    },
    {
      "cell_type": "markdown",
      "source": [
        "**Q2. Write a program in Python to perform the following operator based task:**\n",
        "\n",
        "Ask user to choose the following option first:.\n",
        "\n",
        "If User Enter 1 - Addition.\n",
        "\n",
        "If User Enter 2 - Subtraction.\n",
        "\n",
        "If User Enter 3 - Division.\n",
        "\n",
        "If User Enter 4 - Multiplication.\n",
        "\n",
        "If User Enter 5 - Average.\n",
        "\n",
        "Ask user to enter two numbers and keep those numbers in variables num1 and num2 respectively for the first 4 options mentioned above.\n",
        "\n",
        "Ask the user to enter two more numbers as first and second for calculating the average as\n",
        "soon as the user chooses an option 5.\n",
        "\n",
        "At the end if the answer of any operation is Negative print a statement saying “NEGATIVE”.\n",
        "\n",
        "NOTE: At a time a user can only perform one action."
      ],
      "metadata": {
        "id": "INI7EhcxluOL"
      }
    },
    {
      "cell_type": "code",
      "source": [
        "print(\"Please select any option from below list\")\n",
        "print(\"For Addition:       \", \"1\")\n",
        "print(\"For Substraction:   \", \"2\")\n",
        "print(\"For Multiplication: \", \"3\")\n",
        "print(\"For Division:       \", \"4\")\n",
        "print(\"For Average:        \", \"5\")\n",
        "\n",
        "option = (input())\n",
        "\n",
        "if option in ('1','2','3','4'):\n",
        "  num1 = int(input(\"Enter first number \"))\n",
        "  num2 = int(input(\"Enter second number \"))\n",
        "  \n",
        "  if option == '1':\n",
        "    a = num1+num2\n",
        "    print(a)\n",
        "  elif option == '2':\n",
        "    b = num1-num2\n",
        "    print(b)\n",
        "  elif option == '3':\n",
        "    c = num1*num2\n",
        "    print(c)\n",
        "  elif option == '4':\n",
        "    d = num1/num2\n",
        "    print(d)\n",
        "    \n",
        "  if (a) or (b) or (c) or (d) < 0:\n",
        "    print(\"NEGATIVE\")\n",
        "    \n",
        "\n",
        "elif option == '5':\n",
        "  num3 = int(input(\"Enter the first number \"))\n",
        "  num4 = int(input(\"Enter the second number \"))\n",
        "  e = ((num3+num4)/2)\n",
        "  print(e)\n",
        "  if (e) < 0:\n",
        "    print(\"NEGATIVE\")\n",
        "    \n",
        "\n",
        "else:\n",
        "  print(\"Invalid Input\")\n",
        "   \n",
        "\n",
        "\n"
      ],
      "metadata": {
        "id": "dAmdnDom_v1t"
      },
      "execution_count": null,
      "outputs": []
    },
    {
      "cell_type": "code",
      "source": [
        "a = 10\n",
        "b = 20\n",
        "c = 30\n",
        "\n",
        "avg = (a+b+c)/3\n",
        "print(\"avg =\", avg)\n",
        "\n",
        "if (avg>a) and (avg > b) and (avg > c):\n",
        "  print(\"avg is higher than a,b,c\")\n",
        "\n",
        "elif  (avg>a) and (avg > b):\n",
        "  print(\"avg is higher than a and b\")\n",
        "\n",
        "elif  (avg>a) and (avg > c):\n",
        "  print(\"avg is higher than a and c\")\n",
        "\n",
        "elif  (avg>b) and (avg > c):\n",
        "  print(\"avg is higher than b and c\")\n",
        "\n",
        "elif  (avg>a):\n",
        "  print(\"avg is higher than a\")\n",
        "\n",
        "elif  (avg>b):\n",
        "  print(\"avg is higher than b\")\n",
        "\n",
        "elif  (avg>c):\n",
        "  print(\"avg is higher than c\")"
      ],
      "metadata": {
        "id": "Jsi3QvbiTplM"
      },
      "execution_count": null,
      "outputs": []
    },
    {
      "cell_type": "code",
      "source": [
        "\n",
        "x = int(input(\"Please enter a number \"))\n",
        "\n",
        "while True:\n",
        "  if x < 0:\n",
        "    break\n",
        "  else:\n",
        "    print(\"Good Going\")\n",
        "    continue\n",
        "print(\"It's Over\")\n",
        "\n",
        "\n",
        "\n"
      ],
      "metadata": {
        "id": "xeFVHysaXNUw"
      },
      "execution_count": null,
      "outputs": []
    },
    {
      "cell_type": "code",
      "source": [
        "for x in range(2000, 3200):\n",
        "  if x%7 == 0 and x%5 !=0:\n",
        "    print(x)\n",
        "    "
      ],
      "metadata": {
        "id": "s1CfTb0_gYk5"
      },
      "execution_count": null,
      "outputs": []
    },
    {
      "cell_type": "code",
      "source": [
        "# Write a program that prints all the numbers from 0 to 6 except 3 and 6.\n",
        "\n",
        "for x in range(6):\n",
        "  if (x == 3):\n",
        "    continue\n",
        "  print(x, end = \" \")\n"
      ],
      "metadata": {
        "id": "bZGtTq7dMl08"
      },
      "execution_count": null,
      "outputs": []
    },
    {
      "cell_type": "code",
      "source": [
        " # Write a program that accepts a string as an input from the user and calculate the number of digits and letters.\n",
        " #consul72\n",
        "\n",
        "string_name  = input()\n",
        "\n",
        "y = 0\n",
        "z = 0\n",
        " \n",
        "for x in string_name:\n",
        "  if x.isdigit():\n",
        "    y=y+1\n",
        "  elif x.isalpha():\n",
        "    z=z+1\n",
        "print(\"Number of alphabets \", y)\n",
        "print(\"Numbers of digits \", z)\n"
      ],
      "metadata": {
        "id": "ZPB6VKAQSGXr"
      },
      "execution_count": null,
      "outputs": []
    },
    {
      "cell_type": "code",
      "source": [
        "guess_number = int(input(\"Guess the lucky number\"))\n",
        "\n"
      ],
      "metadata": {
        "id": "WNJb3PX7ZXhh"
      },
      "execution_count": null,
      "outputs": []
    },
    {
      "cell_type": "code",
      "source": [
        "number = input(\"Guess the lucky number \")\n",
        "while number != 5:\n",
        "   print (\"That is not the lucky number\")\n",
        "   number = input(\"Guess the lucky number \")"
      ],
      "metadata": {
        "id": "_dAPFjMpehsg"
      },
      "execution_count": null,
      "outputs": []
    },
    {
      "cell_type": "code",
      "source": [
        "#Q10.\n",
        "\n",
        "\n"
      ],
      "metadata": {
        "id": "QZm1VF0QgOQg"
      },
      "execution_count": null,
      "outputs": []
    },
    {
      "cell_type": "code",
      "source": [],
      "metadata": {
        "id": "hXMS0JI38NnN"
      },
      "execution_count": null,
      "outputs": []
    }
  ]
}