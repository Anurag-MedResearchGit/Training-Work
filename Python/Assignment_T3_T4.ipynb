{
  "nbformat": 4,
  "nbformat_minor": 0,
  "metadata": {
    "colab": {
      "provenance": [],
      "collapsed_sections": [
        "TkvwXZcmkriV"
      ]
    },
    "kernelspec": {
      "name": "python3",
      "display_name": "Python 3"
    },
    "language_info": {
      "name": "python"
    }
  },
  "cells": [
    {
      "cell_type": "markdown",
      "source": [
        "#Task 3"
      ],
      "metadata": {
        "id": "TkvwXZcmkriV"
      }
    },
    {
      "cell_type": "code",
      "execution_count": null,
      "metadata": {
        "colab": {
          "base_uri": "https://localhost:8080/"
        },
        "id": "EDYpLyOudr_G",
        "outputId": "8c84bf89-49b7-401c-9e3e-9833aac64b99"
      },
      "outputs": [
        {
          "output_type": "execute_result",
          "data": {
            "text/plain": [
              "[2, 'Hello', 3, 4, 4.5, (3+4j), 'World', (2+7j), 8, 9]"
            ]
          },
          "metadata": {},
          "execution_count": 2
        }
      ],
      "source": [
        "#Q1.\n",
        "\n",
        "my_list = [2,\"Hello\", 3, 4, 4.5, 3+4j, \"World\", 2+7j, 8, 9]\n",
        "my_list"
      ]
    },
    {
      "cell_type": "code",
      "source": [
        "#Q2\n",
        "my_list = [2,\"Hello\", 3, 4, 4.5]\n",
        "\n",
        "''' From 1st index to 3rd index, 4th index will exclude '''\n",
        "print(my_list[1:4])\n",
        "\n",
        "''' From 1st index to 4th index with step size 2  '''\n",
        "print(my_list[1:5:2])\n",
        "\n",
        "''' From reverse '''\n",
        "print(my_list[-5:-1:2])\n"
      ],
      "metadata": {
        "colab": {
          "base_uri": "https://localhost:8080/"
        },
        "id": "J4a8nE2aedzs",
        "outputId": "1e1ebdad-247f-4bec-9907-ddbf82b3ef1e"
      },
      "execution_count": null,
      "outputs": [
        {
          "output_type": "stream",
          "name": "stdout",
          "text": [
            "['Hello', 3, 4]\n",
            "['Hello', 4]\n",
            "[2, 3]\n"
          ]
        }
      ]
    },
    {
      "cell_type": "code",
      "source": [
        "#Q3\n",
        "\n",
        "my_list = [1,2,3,4,5,6,7,8,9,10]\n",
        "\n",
        "for f in my_list:\n",
        "  h = f\n",
        "  g = h+f\n",
        "\n",
        "print(g)"
      ],
      "metadata": {
        "colab": {
          "base_uri": "https://localhost:8080/"
        },
        "id": "hM1cBcIEkWuR",
        "outputId": "f5f47159-95b4-4538-8806-794b25a143f6"
      },
      "execution_count": null,
      "outputs": [
        {
          "output_type": "stream",
          "name": "stdout",
          "text": [
            "20\n"
          ]
        }
      ]
    },
    {
      "cell_type": "code",
      "source": [
        "#Q4\n",
        "\n",
        "my_list = [1,2,3,4,5,6,7,8,9,10]\n",
        "\n",
        "'''Smallest Number'''\n",
        "print(min(my_list))\n",
        "\n",
        "'''Largest Number'''\n",
        "print(max(my_list))\n"
      ],
      "metadata": {
        "colab": {
          "base_uri": "https://localhost:8080/"
        },
        "id": "qQc90X_Rm7Lk",
        "outputId": "2fdfba3d-15df-43d1-d7e3-0d2cb113fb31"
      },
      "execution_count": null,
      "outputs": [
        {
          "output_type": "stream",
          "name": "stdout",
          "text": [
            "1\n",
            "10\n"
          ]
        }
      ]
    },
    {
      "cell_type": "code",
      "source": [
        "#Q5\n",
        "\n",
        "num = [1,2,3,4,5,6,7,8,9,10]\n",
        "\n",
        "new_list = [x for x in num if x%2 != 0]\n",
        "new_list"
      ],
      "metadata": {
        "colab": {
          "base_uri": "https://localhost:8080/"
        },
        "id": "C0wZEoF_n4GU",
        "outputId": "f3332358-2a2a-49ac-810d-d121a12ef51e"
      },
      "execution_count": null,
      "outputs": [
        {
          "output_type": "execute_result",
          "data": {
            "text/plain": [
              "[1, 3, 5, 7, 9]"
            ]
          },
          "metadata": {},
          "execution_count": 53
        }
      ]
    },
    {
      "cell_type": "code",
      "source": [
        "# Q6\n",
        "\n",
        "list_of_squares = [x**2 for x in range(1,31) if x < 6 or (x > 25 and x < 31)]\n",
        "list_of_squares"
      ],
      "metadata": {
        "colab": {
          "base_uri": "https://localhost:8080/"
        },
        "id": "dAjTjRTWEBtk",
        "outputId": "cae9d8a1-dd32-4f70-eb7b-3a20e1168593"
      },
      "execution_count": null,
      "outputs": [
        {
          "output_type": "execute_result",
          "data": {
            "text/plain": [
              "[1, 4, 9, 16, 25, 676, 729, 784, 841, 900]"
            ]
          },
          "metadata": {},
          "execution_count": 59
        }
      ]
    },
    {
      "cell_type": "code",
      "source": [
        "# Q7\n",
        "\n",
        "Sample_input =  [1,3,5,7,9,10]\n",
        "\n",
        "Sample_input[-1:] = [2,4, 6, 8]\n",
        "\n",
        "print(Sample_input)\n",
        "\n",
        "''' OR '''\n",
        "\n",
        "# It can also be done as:\n",
        "\n",
        "a = [1,3,5,7,9,10]\n",
        "b = [2,4,6,8]\n",
        "a.extend(b)\n",
        "d = a\n",
        "d.pop(5)\n",
        "print(d)"
      ],
      "metadata": {
        "colab": {
          "base_uri": "https://localhost:8080/"
        },
        "id": "eJkGjrjBFRdV",
        "outputId": "0b11890b-1eff-4a11-fb78-e6f11e2005ad"
      },
      "execution_count": null,
      "outputs": [
        {
          "output_type": "stream",
          "name": "stdout",
          "text": [
            "[1, 3, 5, 7, 9, 2, 4, 6, 8]\n",
            "[1, 3, 5, 7, 9, 2, 4, 6, 8]\n"
          ]
        }
      ]
    },
    {
      "cell_type": "code",
      "source": [
        "# Q8\n",
        "\n",
        "a = {1:10,2:20} \n",
        "\n",
        "b = {3:30,4:40}\n",
        " \n",
        "a.update(b)\n",
        "\n",
        "a\n"
      ],
      "metadata": {
        "colab": {
          "base_uri": "https://localhost:8080/"
        },
        "id": "aFMSSKaMJyJG",
        "outputId": "d5aabd3f-2bd0-40ce-f862-bb5cf8539c00"
      },
      "execution_count": null,
      "outputs": [
        {
          "output_type": "execute_result",
          "data": {
            "text/plain": [
              "{1: 10, 2: 20, 3: 30, 4: 40}"
            ]
          },
          "metadata": {},
          "execution_count": 88
        }
      ]
    },
    {
      "cell_type": "code",
      "source": [
        "#Q9\n",
        "\n",
        "c = {x:x*x for x in range(1,6)}\n",
        "c"
      ],
      "metadata": {
        "colab": {
          "base_uri": "https://localhost:8080/"
        },
        "id": "sMQArOkEY9zA",
        "outputId": "f0fdf18c-9e6f-460a-9821-e9c63da37b49"
      },
      "execution_count": null,
      "outputs": [
        {
          "output_type": "execute_result",
          "data": {
            "text/plain": [
              "{1: 1, 2: 4, 3: 9, 4: 16, 5: 25}"
            ]
          },
          "metadata": {},
          "execution_count": 97
        }
      ]
    },
    {
      "cell_type": "code",
      "source": [
        "# Q10\n",
        "\n",
        "x  = str(input(\"Enter the numbers:\"))\n",
        "\n",
        "result = x.split() \n",
        "\n",
        "my_list = list(result)\n",
        "\n",
        "print(my_list)\n",
        "\n",
        "my_tuple = tuple(result)\n",
        "\n",
        "print(my_tuple)\n"
      ],
      "metadata": {
        "colab": {
          "base_uri": "https://localhost:8080/"
        },
        "id": "Z0RSeVM_cTwu",
        "outputId": "c277a5da-df66-4bf2-99c1-ce6bd75d854d"
      },
      "execution_count": null,
      "outputs": [
        {
          "output_type": "stream",
          "name": "stdout",
          "text": [
            "Enter the numbers:34 67 55 33 12 98\n",
            "['34', '67', '55', '33', '12', '98']\n",
            "('34', '67', '55', '33', '12', '98')\n"
          ]
        }
      ]
    },
    {
      "cell_type": "markdown",
      "source": [
        "# Task 4"
      ],
      "metadata": {
        "id": "I807AL7_kzGf"
      }
    },
    {
      "cell_type": "code",
      "source": [
        "#Q1\n",
        "\n",
        "sample = \"1234abcd\"\n",
        "\n",
        "sample[::-1]\n"
      ],
      "metadata": {
        "colab": {
          "base_uri": "https://localhost:8080/",
          "height": 35
        },
        "id": "XNzVOXdak8ZO",
        "outputId": "691c9c6c-6637-4734-ab77-00417b59853c"
      },
      "execution_count": null,
      "outputs": [
        {
          "output_type": "execute_result",
          "data": {
            "text/plain": [
              "'dcba4321'"
            ],
            "application/vnd.google.colaboratory.intrinsic+json": {
              "type": "string"
            }
          },
          "metadata": {},
          "execution_count": 141
        }
      ]
    },
    {
      "cell_type": "code",
      "source": [
        "#Q2\n",
        "\n",
        "x = input()\n",
        "\n",
        "def upcase_locase(x):      \n",
        "    u = sum(1 for i in x if i.isupper())\n",
        "    l = sum(1 for i in x if i.islower())\n",
        "\n",
        "\n",
        "    print( \"No. of Uppercase characters : %s,No. of Lower case Characters : %s\" % (u,l))\n",
        "\n",
        "\n",
        "upcase_locase(x)"
      ],
      "metadata": {
        "colab": {
          "base_uri": "https://localhost:8080/"
        },
        "id": "CyIfVYSvHX59",
        "outputId": "a510d772-0fca-453e-80fe-028da0dbdb99"
      },
      "execution_count": 13,
      "outputs": [
        {
          "output_type": "stream",
          "name": "stdout",
          "text": [
            "hELLO\n",
            "No. of Uppercase characters : 4,No. of Lower case Characters : 1\n"
          ]
        }
      ]
    },
    {
      "cell_type": "code",
      "source": [
        "#3 \n",
        "\n",
        "def unique_list(z):\n",
        "  my_list = []\n",
        "  for a in z:\n",
        "    if a not in my_list:\n",
        "      my_list.append(a)\n",
        "  return my_list\n",
        "\n",
        "print(unique_list([1,1,1,1,2,3,4,'a'])) "
      ],
      "metadata": {
        "colab": {
          "base_uri": "https://localhost:8080/"
        },
        "id": "LkBrdgKRPiyU",
        "outputId": "b19ac5b5-20de-43c9-b5ec-e0a5e9b0a25f"
      },
      "execution_count": 4,
      "outputs": [
        {
          "output_type": "stream",
          "name": "stdout",
          "text": [
            "[1, 2, 3, 4, 'a']\n"
          ]
        }
      ]
    },
    {
      "cell_type": "code",
      "source": [
        "#4\n",
        "\n",
        "\n",
        "my_list = [x for x in input().split('-')]\n",
        "\n",
        "my_list.sort()\n",
        "\n",
        "\n",
        "print('-'.join(items))\n",
        "\n",
        "\n"
      ],
      "metadata": {
        "colab": {
          "base_uri": "https://localhost:8080/"
        },
        "id": "ZZD_0LV8Qqoz",
        "outputId": "870e6548-f1fc-4ede-e216-ee32e44f0e1d"
      },
      "execution_count": 7,
      "outputs": [
        {
          "output_type": "stream",
          "name": "stdout",
          "text": [
            "One Two Three Four\n",
            "Four-One-Three-Two\n"
          ]
        }
      ]
    },
    {
      "cell_type": "code",
      "source": [
        "#5\n",
        "\n",
        "while True:\n",
        "  lines = input( )\n",
        "  if lines != \"\":\n",
        "    print(lines.upper())\n",
        "  else:\n",
        "        break"
      ],
      "metadata": {
        "id": "zayvC9GzXNJR"
      },
      "execution_count": null,
      "outputs": []
    },
    {
      "cell_type": "code",
      "source": [
        "#6 \n",
        "\n",
        "def String_to_int(a,b):\n",
        "  return int(a)+int(b)\n",
        "\n",
        "String_to_int(\"1\",\"2\")"
      ],
      "metadata": {
        "colab": {
          "base_uri": "https://localhost:8080/"
        },
        "id": "UC4yHxqNXOLE",
        "outputId": "780e671e-a7af-48a2-e410-fc026c3764be"
      },
      "execution_count": 24,
      "outputs": [
        {
          "output_type": "execute_result",
          "data": {
            "text/plain": [
              "7"
            ]
          },
          "metadata": {},
          "execution_count": 24
        }
      ]
    },
    {
      "cell_type": "code",
      "source": [
        "#7\n",
        "\n",
        "a = input()\n",
        "b = input()\n",
        "\n",
        "def string_length(a,b):\n",
        "\tx1 = len(a)\n",
        "\tx2 = len(b)\n",
        "\tif x1>x2:\n",
        "\t\tprint(a)\n",
        "\telif x2>x1:\n",
        "\t\tprint(b)\n",
        "\telse:\n",
        "\t\tprint(a)\n",
        "\t\tprint(b)\n",
        "\n",
        "string_length(a,b)"
      ],
      "metadata": {
        "colab": {
          "base_uri": "https://localhost:8080/"
        },
        "id": "lKxpJvvdZwTJ",
        "outputId": "9c53b30e-beb4-4028-f999-9630cf89cf6a"
      },
      "execution_count": 31,
      "outputs": [
        {
          "output_type": "stream",
          "name": "stdout",
          "text": [
            "Hellooo\n",
            "World\n",
            "Hellooo\n"
          ]
        }
      ]
    },
    {
      "cell_type": "code",
      "source": [
        "#8\n",
        "\n",
        "def Tuple_function():\n",
        "  my_list = list()\n",
        "\t\n",
        "  for i in range(1,21):\n",
        "    my_list.append(i**2)\n",
        "    print (tuple(my_list))\n",
        "\t\t\n",
        "Tuple_function()"
      ],
      "metadata": {
        "colab": {
          "base_uri": "https://localhost:8080/"
        },
        "id": "zmiov9JrcNgh",
        "outputId": "ce2d4ef7-9936-46d0-b1a7-017525462253"
      },
      "execution_count": 34,
      "outputs": [
        {
          "output_type": "stream",
          "name": "stdout",
          "text": [
            "(1,)\n",
            "(1, 4)\n",
            "(1, 4, 9)\n",
            "(1, 4, 9, 16)\n",
            "(1, 4, 9, 16, 25)\n",
            "(1, 4, 9, 16, 25, 36)\n",
            "(1, 4, 9, 16, 25, 36, 49)\n",
            "(1, 4, 9, 16, 25, 36, 49, 64)\n",
            "(1, 4, 9, 16, 25, 36, 49, 64, 81)\n",
            "(1, 4, 9, 16, 25, 36, 49, 64, 81, 100)\n",
            "(1, 4, 9, 16, 25, 36, 49, 64, 81, 100, 121)\n",
            "(1, 4, 9, 16, 25, 36, 49, 64, 81, 100, 121, 144)\n",
            "(1, 4, 9, 16, 25, 36, 49, 64, 81, 100, 121, 144, 169)\n",
            "(1, 4, 9, 16, 25, 36, 49, 64, 81, 100, 121, 144, 169, 196)\n",
            "(1, 4, 9, 16, 25, 36, 49, 64, 81, 100, 121, 144, 169, 196, 225)\n",
            "(1, 4, 9, 16, 25, 36, 49, 64, 81, 100, 121, 144, 169, 196, 225, 256)\n",
            "(1, 4, 9, 16, 25, 36, 49, 64, 81, 100, 121, 144, 169, 196, 225, 256, 289)\n",
            "(1, 4, 9, 16, 25, 36, 49, 64, 81, 100, 121, 144, 169, 196, 225, 256, 289, 324)\n",
            "(1, 4, 9, 16, 25, 36, 49, 64, 81, 100, 121, 144, 169, 196, 225, 256, 289, 324, 361)\n",
            "(1, 4, 9, 16, 25, 36, 49, 64, 81, 100, 121, 144, 169, 196, 225, 256, 289, 324, 361, 400)\n"
          ]
        }
      ]
    },
    {
      "cell_type": "code",
      "source": [
        "#9\n",
        "\n",
        "limit = int(input())\n",
        "\n",
        "def showNumbers(limit):\n",
        "    \n",
        "    for i in range(limit+1):\n",
        "        print(f'{i} - EVEN' if i%2 == 0 else f'{i} - ODD') \n",
        "\n",
        "showNumbers(limit)"
      ],
      "metadata": {
        "colab": {
          "base_uri": "https://localhost:8080/"
        },
        "id": "AQ5IoPWddy7s",
        "outputId": "85037136-f8cf-40c6-d3fa-368634fe8d86"
      },
      "execution_count": 38,
      "outputs": [
        {
          "output_type": "stream",
          "name": "stdout",
          "text": [
            "4\n",
            "0 - EVEN\n",
            "1 - ODD\n",
            "2 - EVEN\n",
            "3 - ODD\n",
            "4 - EVEN\n"
          ]
        }
      ]
    },
    {
      "cell_type": "code",
      "source": [
        "# 10\n",
        "\n",
        "\n",
        "even_numbers = filter(lambda x: x%2==0, range(1,21))\n",
        "\n",
        "print(list(even_numbers))"
      ],
      "metadata": {
        "colab": {
          "base_uri": "https://localhost:8080/"
        },
        "id": "5uLN8Q2Ne9UD",
        "outputId": "7f9757bb-16fd-4ef3-b41d-d6a70e073988"
      },
      "execution_count": 46,
      "outputs": [
        {
          "output_type": "stream",
          "name": "stdout",
          "text": [
            "[2, 4, 6, 8, 10, 12, 14, 16, 18, 20]\n"
          ]
        }
      ]
    },
    {
      "cell_type": "code",
      "source": [
        "#11\n",
        "\n",
        "my_list = [1,2,3,4,5,6,7,8,9,10]\n",
        " \n",
        "even_numbers = map(lambda x: x**2, filter(lambda   x: x%2==0, my_list))\n",
        " \n",
        "print(list(even_numbers))"
      ],
      "metadata": {
        "colab": {
          "base_uri": "https://localhost:8080/"
        },
        "id": "wckidEMvw_5-",
        "outputId": "e4a028ec-5b80-4538-994f-89d02b01b34a"
      },
      "execution_count": 51,
      "outputs": [
        {
          "output_type": "stream",
          "name": "stdout",
          "text": [
            "[4, 16, 36, 64, 100]\n"
          ]
        }
      ]
    },
    {
      "cell_type": "code",
      "source": [
        "#12 \n",
        "\n",
        "def throws():\n",
        "    return 5/0\n",
        "try:\n",
        "    throws()\n",
        "except ZeroDivisionError:\n",
        "    print( \"division by zero!\")\n",
        "except Exception as err:\n",
        "    print ('Caught an exception')"
      ],
      "metadata": {
        "colab": {
          "base_uri": "https://localhost:8080/"
        },
        "id": "aayIs04Gx6_1",
        "outputId": "1f11aa98-aec9-4afb-e8c0-0d000e50d8e9"
      },
      "execution_count": 62,
      "outputs": [
        {
          "output_type": "stream",
          "name": "stdout",
          "text": [
            "division by zero!\n"
          ]
        }
      ]
    },
    {
      "cell_type": "code",
      "source": [
        "#13 \n",
        "\n",
        "#from functools import reduce\n",
        "\n",
        "\n",
        "flatten_list = [1,2,3,4,5,6,7]\n",
        "\n",
        "result = reduce(lambda x, a: 10 * x + a, flatten_list)\n",
        "\n",
        "result"
      ],
      "metadata": {
        "colab": {
          "base_uri": "https://localhost:8080/"
        },
        "id": "GNlqo1061_z4",
        "outputId": "00916ab5-f575-4357-c379-20170ad0aaf8"
      },
      "execution_count": 82,
      "outputs": [
        {
          "output_type": "execute_result",
          "data": {
            "text/plain": [
              "1234567"
            ]
          },
          "metadata": {},
          "execution_count": 82
        }
      ]
    },
    {
      "cell_type": "code",
      "source": [
        "#14\n",
        "\n",
        "my_list =[]\n",
        "\n",
        "for x in range(20):\n",
        "    if (x%7==0) and (x%3 != 0 ):\n",
        "        my_list.append(x)\n",
        "\n",
        "print(my_list)"
      ],
      "metadata": {
        "colab": {
          "base_uri": "https://localhost:8080/"
        },
        "id": "8KrMAbae4Lys",
        "outputId": "09e3b234-93ba-4e31-8020-fc282ae8b30a"
      },
      "execution_count": 75,
      "outputs": [
        {
          "output_type": "stream",
          "name": "stdout",
          "text": [
            "[7, 14]\n"
          ]
        }
      ]
    },
    {
      "cell_type": "code",
      "source": [
        "#16\n",
        "\n",
        "def foo(): \n",
        "  try: \n",
        "    return 1 \n",
        "  finally: \n",
        "    return 2\n",
        "  k = foo()\n",
        "print(k)"
      ],
      "metadata": {
        "colab": {
          "base_uri": "https://localhost:8080/"
        },
        "id": "ebdEj2bU4Ns7",
        "outputId": "34eff1e2-bb6e-4df0-9446-3c34084c5571"
      },
      "execution_count": 90,
      "outputs": [
        {
          "output_type": "stream",
          "name": "stdout",
          "text": [
            "2\n"
          ]
        }
      ]
    },
    {
      "cell_type": "code",
      "source": [
        "\n",
        "def a(): \n",
        "  try: \n",
        "    f(x, 4) \n",
        "  finally: \n",
        "    print('after f') \n",
        "    print('after f?')\n",
        "    print(a())"
      ],
      "metadata": {
        "id": "GaD4Z7D69dWt"
      },
      "execution_count": 1,
      "outputs": []
    }
  ]
}